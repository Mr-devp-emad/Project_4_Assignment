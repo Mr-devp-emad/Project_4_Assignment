{
  "nbformat": 4,
  "nbformat_minor": 0,
  "metadata": {
    "colab": {
      "provenance": [],
      "authorship_tag": "ABX9TyOpDhu0kdd7ipj36wY5y4X1",
      "include_colab_link": true
    },
    "kernelspec": {
      "name": "python3",
      "display_name": "Python 3"
    },
    "language_info": {
      "name": "python"
    }
  },
  "cells": [
    {
      "cell_type": "markdown",
      "metadata": {
        "id": "view-in-github",
        "colab_type": "text"
      },
      "source": [
        "<a href=\"https://colab.research.google.com/github/Mr-devp-emad/Project_4_Assignment/blob/main/Madlibs.ipynb\" target=\"_parent\"><img src=\"https://colab.research.google.com/assets/colab-badge.svg\" alt=\"Open In Colab\"/></a>"
      ]
    },
    {
      "cell_type": "markdown",
      "source": [
        "# Assignment No1\n"
      ],
      "metadata": {
        "id": "Nr3ke1kxtmJu"
      }
    },
    {
      "cell_type": "code",
      "source": [
        "# Simple Cricket Mad Libs Game\n",
        "\n",
        "def mad_libs():\n",
        "    print(\"🏏 Welcome to Cricket Mad Libs! Fill in the blanks to create a fun cricket story.\\n\")\n",
        "\n",
        "    # Asking for user input\n",
        "    player_name = input(\"Enter a cricketer's name: \")\n",
        "    team_name = input(\"Enter a cricket team name: \")\n",
        "    shot = input(\"Enter a type of cricket shot (e.g., six, cover drive, sweep): \")\n",
        "    runs = input(\"Enter a number: \")\n",
        "    bowler_name = input(\"Enter a bowler's name: \")\n",
        "\n",
        "    # Story template\n",
        "    story = f\"\"\"\n",
        "    It was the final match between {team_name} and their rivals.\n",
        "    {player_name} was on strike, and the crowd was excited!\n",
        "\n",
        "    The bowler {bowler_name} ran in and delivered the ball...\n",
        "    {player_name} played a beautiful {shot}, sending the ball to the boundary!\n",
        "\n",
        "    The scoreboard flashed {runs} runs! The stadium erupted in cheers.\n",
        "    What an unforgettable moment in cricket history!\n",
        "    \"\"\"\n",
        "\n",
        "    # Print the completed story\n",
        "    print(\"\\n🏆 Here is your cricket story:\\n\")\n",
        "    print(story)\n",
        "\n",
        "# Run the game\n",
        "mad_libs()"
      ],
      "metadata": {
        "colab": {
          "base_uri": "https://localhost:8080/"
        },
        "id": "wM3D71tIW6xT",
        "outputId": "ee637d3f-06f2-4521-9cdf-a6a39b65b488"
      },
      "execution_count": null,
      "outputs": [
        {
          "output_type": "stream",
          "name": "stdout",
          "text": [
            "🏏 Welcome to Cricket Mad Libs! Fill in the blanks to create a fun cricket story.\n",
            "\n",
            "Enter a cricketer's name: ali\n",
            "Enter a cricket team name: paki\n",
            "Enter a type of cricket shot (e.g., six, cover drive, sweep): swp\n",
            "Enter a number: 4\n",
            "Enter a bowler's name: kone\n",
            "\n",
            "🏆 Here is your cricket story:\n",
            "\n",
            "\n",
            "    It was the final match between paki and their rivals.\n",
            "    ali was on strike, and the crowd was excited!\n",
            "\n",
            "    The bowler kone ran in and delivered the ball...\n",
            "    ali played a beautiful swp, sending the ball to the boundary!\n",
            "\n",
            "    The scoreboard flashed 4 runs! The stadium erupted in cheers.\n",
            "    What an unforgettable moment in cricket history!\n",
            "    \n"
          ]
        }
      ]
    }
  ]
}