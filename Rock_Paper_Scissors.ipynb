{
  "nbformat": 4,
  "nbformat_minor": 0,
  "metadata": {
    "colab": {
      "provenance": [],
      "authorship_tag": "ABX9TyNLk11zTMEtG0TOfbIgwdds",
      "include_colab_link": true
    },
    "kernelspec": {
      "name": "python3",
      "display_name": "Python 3"
    },
    "language_info": {
      "name": "python"
    }
  },
  "cells": [
    {
      "cell_type": "markdown",
      "metadata": {
        "id": "view-in-github",
        "colab_type": "text"
      },
      "source": [
        "<a href=\"https://colab.research.google.com/github/Mr-devp-emad/Project_4_Assignment/blob/main/Rock_Paper_Scissors.ipynb\" target=\"_parent\"><img src=\"https://colab.research.google.com/assets/colab-badge.svg\" alt=\"Open In Colab\"/></a>"
      ]
    },
    {
      "cell_type": "code",
      "execution_count": null,
      "metadata": {
        "id": "05acY963ZYYm"
      },
      "outputs": [],
      "source": []
    },
    {
      "cell_type": "markdown",
      "source": [
        "# Rock, Paper, Scissors **Game**"
      ],
      "metadata": {
        "id": "mXrMtWcEZZ0w"
      }
    },
    {
      "cell_type": "markdown",
      "source": [
        "This is a simple implementation of the classic Rock, Paper, Scissors game in Python. The game allows a user to play against the computer, which makes random choices.\n"
      ],
      "metadata": {
        "id": "yUT9cnVYZePv"
      }
    },
    {
      "cell_type": "code",
      "source": [
        "import random\n",
        "\n",
        "def get_player_choice():\n",
        "    \"\"\"Get the player's choice for the game.\"\"\"\n",
        "    while True:\n",
        "        choice = input(\"\\nEnter your choice (rock/paper/scissors): \").lower()\n",
        "        if choice in ['rock', 'paper', 'scissors']:\n",
        "            return choice\n",
        "        print(\"Invalid choice! Please try again.\")\n",
        "\n",
        "def get_computer_choice():\n",
        "    \"\"\"Get the computer's random choice for the game.\"\"\"\n",
        "    return random.choice(['rock', 'paper', 'scissors'])\n",
        "\n",
        "def determine_winner(player_choice, computer_choice):\n",
        "    \"\"\"Determine the winner based on the choices.\"\"\"\n",
        "    if player_choice == computer_choice:\n",
        "        return \"It's a tie!\"\n",
        "\n",
        "    winning_combinations = {\n",
        "        'rock': 'scissors',\n",
        "        'paper': 'rock',\n",
        "        'scissors': 'paper'\n",
        "    }\n",
        "\n",
        "    if winning_combinations[player_choice] == computer_choice:\n",
        "        return \"You win!\"\n",
        "    return \"Computer wins!\"\n",
        "\n",
        "def play_game():\n",
        "    \"\"\"Main game function that handles the game loop.\"\"\"\n",
        "    print(\"\\n=== Welcome to Rock, Paper, Scissors! ===\")\n",
        "    print(\"Enter 'quit' to exit the game\")\n",
        "\n",
        "    # Initialize score tracking\n",
        "    score = {\n",
        "        'wins': 0,\n",
        "        'losses': 0,\n",
        "        'ties': 0\n",
        "    }\n",
        "\n",
        "    while True:\n",
        "        # Get choices\n",
        "        player_choice = get_player_choice()\n",
        "        computer_choice = get_computer_choice()\n",
        "\n",
        "        # Display choices\n",
        "        print(f\"\\nYou chose: {player_choice}\")\n",
        "        print(f\"Computer chose: {computer_choice}\")\n",
        "\n",
        "        # Determine and display result\n",
        "        result = determine_winner(player_choice, computer_choice)\n",
        "        print(f\"\\n{result}\")\n",
        "\n",
        "        # Update score\n",
        "        if \"win\" in result.lower():\n",
        "            if \"you\" in result.lower():\n",
        "                score['wins'] += 1\n",
        "            else:\n",
        "                score['losses'] += 1\n",
        "        else:\n",
        "            score['ties'] += 1\n",
        "\n",
        "        # Display current score\n",
        "        print(\"\\nCurrent Score:\")\n",
        "        print(f\"Wins: {score['wins']}\")\n",
        "        print(f\"Losses: {score['losses']}\")\n",
        "        print(f\"Ties: {score['ties']}\")\n",
        "         # Display current score\n",
        "        print(\"\\nCurrent Score:\")\n",
        "        print(f\"Wins: {score['wins']}\")\n",
        "        print(f\"Losses: {score['losses']}\")\n",
        "        print(f\"Ties: {score['ties']}\")\n",
        "\n",
        "        # Ask to play again\n",
        "        play_again = input(\"\\nWould you like to play again? (yes/no): \").lower()\n",
        "        if play_again != 'yes':\n",
        "            print(\"\\n=== Final Score ===\")\n",
        "            print(f\"Total Games: {sum(score.values())}\")\n",
        "            print(f\"Wins: {score['wins']}\")\n",
        "            print(f\"Losses: {score['losses']}\")\n",
        "            print(f\"Ties: {score['ties']}\")\n",
        "            print(\"\\nThanks for playing! Goodbye!\")\n",
        "            break\n",
        "\n",
        "if __name__ == \"__main__\":\n",
        "    play_game()"
      ],
      "metadata": {
        "colab": {
          "base_uri": "https://localhost:8080/"
        },
        "id": "M1b1bUDPZixH",
        "outputId": "e769065a-91e9-4067-b72e-9a45a79cf0e4"
      },
      "execution_count": null,
      "outputs": [
        {
          "output_type": "stream",
          "name": "stdout",
          "text": [
            "\n",
            "=== Welcome to Rock, Paper, Scissors! ===\n",
            "Enter 'quit' to exit the game\n",
            "\n",
            "Enter your choice (rock/paper/scissors): rock\n",
            "\n",
            "You chose: rock\n",
            "Computer chose: paper\n",
            "\n",
            "Computer wins!\n",
            "\n",
            "Current Score:\n",
            "Wins: 0\n",
            "Losses: 1\n",
            "Ties: 0\n",
            "\n",
            "Current Score:\n",
            "Wins: 0\n",
            "Losses: 1\n",
            "Ties: 0\n",
            "\n",
            "Would you like to play again? (yes/no): no\n",
            "\n",
            "=== Final Score ===\n",
            "Total Games: 1\n",
            "Wins: 0\n",
            "Losses: 1\n",
            "Ties: 0\n",
            "\n",
            "Thanks for playing! Goodbye!\n"
          ]
        }
      ]
    }
  ]
}