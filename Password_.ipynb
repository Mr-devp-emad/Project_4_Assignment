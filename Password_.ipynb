{
  "nbformat": 4,
  "nbformat_minor": 0,
  "metadata": {
    "colab": {
      "provenance": [],
      "authorship_tag": "ABX9TyP+Fi9OHOmqDmikOY96EujD",
      "include_colab_link": true
    },
    "kernelspec": {
      "name": "python3",
      "display_name": "Python 3"
    },
    "language_info": {
      "name": "python"
    }
  },
  "cells": [
    {
      "cell_type": "markdown",
      "metadata": {
        "id": "view-in-github",
        "colab_type": "text"
      },
      "source": [
        "<a href=\"https://colab.research.google.com/github/Mr-devp-emad/Project_4_Assignment/blob/main/Password_.ipynb\" target=\"_parent\"><img src=\"https://colab.research.google.com/assets/colab-badge.svg\" alt=\"Open In Colab\"/></a>"
      ]
    },
    {
      "cell_type": "code",
      "execution_count": null,
      "metadata": {
        "id": "uwumr9qYbu0s"
      },
      "outputs": [],
      "source": []
    },
    {
      "cell_type": "markdown",
      "source": [
        "# Password Generator Python **Project**"
      ],
      "metadata": {
        "id": "UWqC3AmrbyhG"
      }
    },
    {
      "cell_type": "code",
      "source": [
        "import random\n",
        "import string\n",
        "\n",
        "def generate_password(length=12):\n",
        "    required_chars = \"_@#$\"\n",
        "    characters = string.ascii_letters + string.digits + required_chars\n",
        "    password = [random.choice(required_chars) for _ in range(4)]\n",
        "    password += [random.choice(characters) for _ in range(length - 4)]\n",
        "    random.shuffle(password)\n",
        "    return ''.join(password)\n",
        "\n",
        "\n",
        "length = int(input(\"Enter the desired password length (minimum 4): \"))\n",
        "if length < 4:\n",
        "    print(\"Password length must be at least 4.\")\n",
        "else:\n",
        "    print(\"Generated Password:\", generate_password(length))"
      ],
      "metadata": {
        "id": "KWkTEbVJb3U5"
      },
      "execution_count": null,
      "outputs": []
    }
  ]
}