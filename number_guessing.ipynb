{
  "nbformat": 4,
  "nbformat_minor": 0,
  "metadata": {
    "colab": {
      "provenance": [],
      "authorship_tag": "ABX9TyNOpKvlEsw6s0/FvrBLOnKO",
      "include_colab_link": true
    },
    "kernelspec": {
      "name": "python3",
      "display_name": "Python 3"
    },
    "language_info": {
      "name": "python"
    }
  },
  "cells": [
    {
      "cell_type": "markdown",
      "metadata": {
        "id": "view-in-github",
        "colab_type": "text"
      },
      "source": [
        "<a href=\"https://colab.research.google.com/github/Mr-devp-emad/Project_4_Assignment/blob/main/number_guessing.ipynb\" target=\"_parent\"><img src=\"https://colab.research.google.com/assets/colab-badge.svg\" alt=\"Open In Colab\"/></a>"
      ]
    },
    {
      "cell_type": "code",
      "execution_count": null,
      "metadata": {
        "id": "-uyKKYwaXzJT"
      },
      "outputs": [],
      "source": []
    },
    {
      "cell_type": "code",
      "source": [],
      "metadata": {
        "id": "s99Oq0nCX9cD"
      },
      "execution_count": null,
      "outputs": []
    },
    {
      "cell_type": "code",
      "source": [
        "import random\n",
        "\n",
        "# Welcome message\n",
        "print(\"🎉 Welcome to 'Guess the Number'! 🎉\")\n",
        "print(\"I have chosen a number between 1 and 10. Try to guess it!\\n\")\n",
        "\n",
        "# Generate a random number\n",
        "secret_number = random.randint(1, 10)\n",
        "\n",
        "# Initialize variables\n",
        "attempts = 0\n",
        "guess = 0\n",
        "\n",
        "# Game loop\n",
        "while guess != secret_number:\n",
        "    guess = int(input(\"Enter your number (1 - 10): \"))\n",
        "    attempts += 1\n",
        "\n",
        "    if guess < secret_number:\n",
        "        print(\"Too low! Try again. ⬆️\")\n",
        "    elif guess > secret_number:\n",
        "        print(\"Too high! Try again. ⬇️\")\n",
        "    else:\n",
        "        print(f\"🎉 Congratulations! You guessed the number {secret_number} in {attempts} attempts. 🎉\")\n",
        "\n",
        "print(\"\\nThanks for playing! Play again to improve your score. 😃\")"
      ],
      "metadata": {
        "colab": {
          "base_uri": "https://localhost:8080/"
        },
        "id": "yknLY8IwYG1e",
        "outputId": "3fb4182b-5d5f-431c-d3b9-22a5b5749357"
      },
      "execution_count": null,
      "outputs": [
        {
          "output_type": "stream",
          "name": "stdout",
          "text": [
            "🎉 Welcome to 'Guess the Number'! 🎉\n",
            "I have chosen a number between 1 and 10. Try to guess it!\n",
            "\n",
            "Enter your number (1 - 10): 5\n",
            "Too high! Try again. ⬇️\n",
            "Enter your number (1 - 10): 3\n",
            "Too high! Try again. ⬇️\n",
            "Enter your number (1 - 10): 4\n",
            "Too high! Try again. ⬇️\n",
            "Enter your number (1 - 10): 8\n",
            "Too high! Try again. ⬇️\n",
            "Enter your number (1 - 10): 6\n",
            "Too high! Try again. ⬇️\n",
            "Enter your number (1 - 10): 9\n",
            "Too high! Try again. ⬇️\n",
            "Enter your number (1 - 10): 2\n",
            "🎉 Congratulations! You guessed the number 2 in 7 attempts. 🎉\n",
            "\n",
            "Thanks for playing! Play again to improve your score. 😃\n"
          ]
        }
      ]
    }
  ]
}