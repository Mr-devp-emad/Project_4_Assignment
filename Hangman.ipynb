{
  "nbformat": 4,
  "nbformat_minor": 0,
  "metadata": {
    "colab": {
      "provenance": [],
      "authorship_tag": "ABX9TyO++tbEd2vHVV2f/vDBiF/f",
      "include_colab_link": true
    },
    "kernelspec": {
      "name": "python3",
      "display_name": "Python 3"
    },
    "language_info": {
      "name": "python"
    }
  },
  "cells": [
    {
      "cell_type": "markdown",
      "metadata": {
        "id": "view-in-github",
        "colab_type": "text"
      },
      "source": [
        "<a href=\"https://colab.research.google.com/github/Mr-devp-emad/Project_4_Assignment/blob/main/Hangman.ipynb\" target=\"_parent\"><img src=\"https://colab.research.google.com/assets/colab-badge.svg\" alt=\"Open In Colab\"/></a>"
      ]
    },
    {
      "cell_type": "code",
      "execution_count": null,
      "metadata": {
        "id": "QrDi8iEWaUwY"
      },
      "outputs": [],
      "source": []
    },
    {
      "cell_type": "markdown",
      "source": [
        "# Assignment no5    {**Hangman**}"
      ],
      "metadata": {
        "id": "whlcKHvMabaW"
      }
    },
    {
      "cell_type": "code",
      "source": [
        "import random\n",
        "\n",
        "def choose_word():\n",
        "    \"\"\"Choose a random word from a predefined list.\"\"\"\n",
        "    words = [\"python\", \"hangman\", \"programming\", \"developer\", \"challenge\"]\n",
        "    return random.choice(words)\n",
        "\n",
        "def display_word(word, guessed_letters):\n",
        "    \"\"\"Display the word with guessed letters revealed and others as underscores.\"\"\"\n",
        "    return \" \".join([letter if letter in guessed_letters else \"_\" for letter in word])\n",
        "\n",
        "def hangman():\n",
        "    print(\"Welcome to Hangman!\")\n",
        "    word = choose_word()\n",
        "    guessed_letters = set()\n",
        "    attempts = 3\n",
        "\n",
        "    while attempts > 0:\n",
        "        print(\"\\n\" + display_word(word, guessed_letters))\n",
        "        print(f\"Attempts remaining: {attempts}\")\n",
        "        print(f\"Guessed letters: {', '.join(sorted(guessed_letters))}\")\n",
        "\n",
        "        guess = input(\"Guess a letter: \").lower()\n",
        "\n",
        "        if len(guess) != 1 or not guess.isalpha():\n",
        "            print(\"Please enter a single valid letter.\")\n",
        "            continue\n",
        "\n",
        "        if guess in guessed_letters:\n",
        "            print(\"You already guessed that letter.\")\n",
        "            continue\n",
        "            guessed_letters.add(guess)\n",
        "\n",
        "        if guess in word:\n",
        "            print(\"Good guess!\")\n",
        "            if all(letter in guessed_letters for letter in word):\n",
        "                print(f\"Congratulations! You guessed the word: {word}\")\n",
        "                break\n",
        "        else:\n",
        "            print(\"Wrong guess!\")\n",
        "            attempts -= 1\n",
        "\n",
        "    if attempts == 0:\n",
        "        print(f\"Game over! The word was: {word}\")\n",
        "\n",
        "if __name__ == \"__main__\":\n",
        "    hangman()"
      ],
      "metadata": {
        "colab": {
          "base_uri": "https://localhost:8080/"
        },
        "id": "Z2XYTwC_ao-V",
        "outputId": "2e1a8c20-0ad3-4fe2-da82-709492a529c6"
      },
      "execution_count": null,
      "outputs": [
        {
          "output_type": "stream",
          "name": "stdout",
          "text": [
            "Welcome to Hangman!\n",
            "\n",
            "_ _ _ _ _ _ _ _ _ _ _\n",
            "Attempts remaining: 3\n",
            "Guessed letters: \n",
            "Guess a letter: s\n",
            "Wrong guess!\n",
            "\n",
            "_ _ _ _ _ _ _ _ _ _ _\n",
            "Attempts remaining: 2\n",
            "Guessed letters: \n",
            "Guess a letter: e\n",
            "Wrong guess!\n",
            "\n",
            "_ _ _ _ _ _ _ _ _ _ _\n",
            "Attempts remaining: 1\n",
            "Guessed letters: \n",
            "Guess a letter: a\n",
            "Good guess!\n",
            "\n",
            "_ _ _ _ _ _ _ _ _ _ _\n",
            "Attempts remaining: 1\n",
            "Guessed letters: \n",
            "Guess a letter: v\n",
            "Wrong guess!\n",
            "Game over! The word was: programming\n"
          ]
        }
      ]
    }
  ]
}