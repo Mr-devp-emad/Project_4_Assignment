{
  "nbformat": 4,
  "nbformat_minor": 0,
  "metadata": {
    "colab": {
      "provenance": [],
      "authorship_tag": "ABX9TyNVj2I1uqTYdx71WvYSd/E0",
      "include_colab_link": true
    },
    "kernelspec": {
      "name": "python3",
      "display_name": "Python 3"
    },
    "language_info": {
      "name": "python"
    }
  },
  "cells": [
    {
      "cell_type": "markdown",
      "metadata": {
        "id": "view-in-github",
        "colab_type": "text"
      },
      "source": [
        "<a href=\"https://colab.research.google.com/github/Mr-devp-emad/Project_4_Assignment/blob/main/Countdown.ipynb\" target=\"_parent\"><img src=\"https://colab.research.google.com/assets/colab-badge.svg\" alt=\"Open In Colab\"/></a>"
      ]
    },
    {
      "cell_type": "code",
      "execution_count": null,
      "metadata": {
        "id": "0kJ5TSvjbPLw"
      },
      "outputs": [],
      "source": []
    },
    {
      "cell_type": "markdown",
      "source": [
        "# Countdown Timer Python **`Project`**"
      ],
      "metadata": {
        "id": "1HPCB-GJbUVT"
      }
    },
    {
      "cell_type": "code",
      "source": [
        "import time\n",
        "\n",
        "print(\"\\t\\tWelcome to the Countdown Timer ⏲️\\n\\n\")\n",
        "\n",
        "def countdown_timer(seconds):\n",
        "    print(f\"Countdown started for {seconds} seconds\")\n",
        "    while seconds:\n",
        "        mins, secs = divmod(seconds, 60)\n",
        "        timer = f'{mins:02d}:{secs:02d}'\n",
        "        print(timer, end='\\r')\n",
        "        time.sleep(1)\n",
        "        seconds -= 1\n",
        "    print(\"Time's up!\")\n",
        "\n",
        "\n",
        "seconds = int(input(\"Enter time in seconds: \"))\n",
        "countdown_timer(seconds)"
      ],
      "metadata": {
        "colab": {
          "base_uri": "https://localhost:8080/"
        },
        "id": "hhNZdi8HbYZ3",
        "outputId": "485f9a07-4024-4c27-c107-00d69c4f213e"
      },
      "execution_count": null,
      "outputs": [
        {
          "output_type": "stream",
          "name": "stdout",
          "text": [
            "\t\tWelcome to the Countdown Timer ⏲️\n",
            "\n",
            "\n",
            "Enter time in seconds: 15\n",
            "Countdown started for 15 seconds\n",
            "Time's up!\n"
          ]
        }
      ]
    }
  ]
}