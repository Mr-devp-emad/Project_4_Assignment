{
  "nbformat": 4,
  "nbformat_minor": 0,
  "metadata": {
    "colab": {
      "provenance": [],
      "authorship_tag": "ABX9TyPI1F1m2Bu1198lxIo57QRv",
      "include_colab_link": true
    },
    "kernelspec": {
      "name": "python3",
      "display_name": "Python 3"
    },
    "language_info": {
      "name": "python"
    }
  },
  "cells": [
    {
      "cell_type": "markdown",
      "metadata": {
        "id": "view-in-github",
        "colab_type": "text"
      },
      "source": [
        "<a href=\"https://colab.research.google.com/github/Mr-devp-emad/Project_4_Assignment/blob/main/guess_the_number.ipynb\" target=\"_parent\"><img src=\"https://colab.research.google.com/assets/colab-badge.svg\" alt=\"Open In Colab\"/></a>"
      ]
    },
    {
      "cell_type": "code",
      "execution_count": null,
      "metadata": {
        "id": "1NjwPeqoYh9w"
      },
      "outputs": [],
      "source": []
    },
    {
      "cell_type": "markdown",
      "source": [
        "# 3- Guess the number game Python Project (user):**bold text**"
      ],
      "metadata": {
        "id": "PdoeXeN7Yrgh"
      }
    },
    {
      "cell_type": "markdown",
      "source": [],
      "metadata": {
        "id": "kzAhLVYfY0JP"
      }
    },
    {
      "cell_type": "code",
      "source": [
        "import random\n",
        "\n",
        "# Welcome message\n",
        "print(\"🎉 Welcome to 'Guess Your Number'! 🎉\")\n",
        "print(\"Think of a number between 1 and 10, and I'll try to guess it! 🤖\")\n",
        "input(\"Press Enter when you're ready...\")\n",
        "\n",
        "# Initialize variables\n",
        "low = 1\n",
        "high = 10\n",
        "attempts = 0\n",
        "\n",
        "# Computer guesses\n",
        "while True:\n",
        "    guess = random.randint(low, high)\n",
        "    attempts += 1\n",
        "    print(f\"\\nIs your number {guess}?\")\n",
        "\n",
        "    response = input(\"Type 'H' if it's too high, 'L' if it's too low, or 'C' if it's correct: \").strip().upper()\n",
        "\n",
        "    if response == \"H\":\n",
        "        high = guess - 1\n",
        "    elif response == \"L\":\n",
        "        low = guess + 1\n",
        "    elif response == \"C\":\n",
        "        print(f\"🎉 Yay! I guessed your number {guess} in {attempts} tries! 🤖🎉\")\n",
        "        break\n",
        "    else:\n",
        "        print(\"Invalid input! Please enter 'H', 'L', or 'C'.\")\n"
      ],
      "metadata": {
        "colab": {
          "base_uri": "https://localhost:8080/"
        },
        "id": "OPw_ojVEY1EZ",
        "outputId": "65d1fa5d-4047-4759-d118-9efd5597d284"
      },
      "execution_count": null,
      "outputs": [
        {
          "output_type": "stream",
          "name": "stdout",
          "text": [
            "🎉 Welcome to 'Guess Your Number'! 🎉\n",
            "Think of a number between 1 and 10, and I'll try to guess it! 🤖\n",
            "Press Enter when you're ready...3\n",
            "\n",
            "Is your number 3?\n",
            "Type 'H' if it's too high, 'L' if it's too low, or 'C' if it's correct: c\n",
            "🎉 Yay! I guessed your number 3 in 1 tries! 🤖🎉\n"
          ]
        }
      ]
    }
  ]
}